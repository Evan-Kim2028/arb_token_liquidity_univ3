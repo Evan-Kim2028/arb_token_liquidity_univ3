{
 "cells": [
  {
   "cell_type": "code",
   "execution_count": 1,
   "metadata": {},
   "outputs": [
    {
     "name": "stdout",
     "output_type": "stream",
     "text": [
      "Defaulting to user installation because normal site-packages is not writeable\n",
      "Collecting git+https://github.com/Evan-Kim2028/subgraph-query-portal.git\n",
      "  Cloning https://github.com/Evan-Kim2028/subgraph-query-portal.git to /tmp/pip-req-build-iwssifwg\n",
      "  Running command git clone --filter=blob:none --quiet https://github.com/Evan-Kim2028/subgraph-query-portal.git /tmp/pip-req-build-iwssifwg\n",
      "  Resolved https://github.com/Evan-Kim2028/subgraph-query-portal.git to commit 5d7d7138cb4db44f86358e81c7de0618b7cb0377\n",
      "  Installing build dependencies ... \u001b[?25ldone\n",
      "\u001b[?25h  Getting requirements to build wheel ... \u001b[?25ldone\n",
      "\u001b[?25h  Installing backend dependencies ... \u001b[?25ldone\n",
      "\u001b[?25h  Preparing metadata (pyproject.toml) ... \u001b[?25ldone\n",
      "\u001b[?25hRequirement already satisfied: pyarrow in /home/evan/.local/lib/python3.10/site-packages (from queryportal==0.0.post1.dev112+g5d7d713) (11.0.0)\n",
      "Collecting subgrounds==1.2.0\n",
      "  Using cached subgrounds-1.2.0-py3-none-any.whl (62 kB)\n",
      "Requirement already satisfied: polars in /home/evan/.local/lib/python3.10/site-packages (from queryportal==0.0.post1.dev112+g5d7d713) (0.16.2)\n",
      "Requirement already satisfied: pydantic<2.0.0,>=1.10.2 in /home/evan/.local/lib/python3.10/site-packages (from subgrounds==1.2.0->queryportal==0.0.post1.dev112+g5d7d713) (1.10.2)\n",
      "Requirement already satisfied: requests<3.0.0,>=2.27.1 in /home/evan/.local/lib/python3.10/site-packages (from subgrounds==1.2.0->queryportal==0.0.post1.dev112+g5d7d713) (2.28.1)\n",
      "Requirement already satisfied: pandas<2.0.0,>=1.4.2 in /home/evan/.local/lib/python3.10/site-packages (from subgrounds==1.2.0->queryportal==0.0.post1.dev112+g5d7d713) (1.5.0)\n",
      "Requirement already satisfied: pipe<3.0,>=2.0 in /home/evan/.local/lib/python3.10/site-packages (from subgrounds==1.2.0->queryportal==0.0.post1.dev112+g5d7d713) (2.0)\n",
      "Requirement already satisfied: pathlib<2.0.0,>=1.0.1 in /home/evan/.local/lib/python3.10/site-packages (from subgrounds==1.2.0->queryportal==0.0.post1.dev112+g5d7d713) (1.0.1)\n",
      "Requirement already satisfied: numpy>=1.16.6 in /home/evan/.local/lib/python3.10/site-packages (from pyarrow->queryportal==0.0.post1.dev112+g5d7d713) (1.23.5)\n",
      "Requirement already satisfied: pytz>=2020.1 in /home/evan/.local/lib/python3.10/site-packages (from pandas<2.0.0,>=1.4.2->subgrounds==1.2.0->queryportal==0.0.post1.dev112+g5d7d713) (2021.3)\n",
      "Requirement already satisfied: python-dateutil>=2.8.1 in /home/evan/.local/lib/python3.10/site-packages (from pandas<2.0.0,>=1.4.2->subgrounds==1.2.0->queryportal==0.0.post1.dev112+g5d7d713) (2.8.2)\n",
      "Requirement already satisfied: typing-extensions>=4.1.0 in /home/evan/.local/lib/python3.10/site-packages (from pydantic<2.0.0,>=1.10.2->subgrounds==1.2.0->queryportal==0.0.post1.dev112+g5d7d713) (4.4.0)\n",
      "Requirement already satisfied: urllib3<1.27,>=1.21.1 in /usr/local/lib/python3.10/dist-packages (from requests<3.0.0,>=2.27.1->subgrounds==1.2.0->queryportal==0.0.post1.dev112+g5d7d713) (1.26.9)\n",
      "Requirement already satisfied: idna<4,>=2.5 in /home/evan/.local/lib/python3.10/site-packages (from requests<3.0.0,>=2.27.1->subgrounds==1.2.0->queryportal==0.0.post1.dev112+g5d7d713) (3.4)\n",
      "Requirement already satisfied: charset-normalizer<3,>=2 in /usr/local/lib/python3.10/dist-packages (from requests<3.0.0,>=2.27.1->subgrounds==1.2.0->queryportal==0.0.post1.dev112+g5d7d713) (2.1.0)\n",
      "Requirement already satisfied: certifi>=2017.4.17 in /usr/local/lib/python3.10/dist-packages (from requests<3.0.0,>=2.27.1->subgrounds==1.2.0->queryportal==0.0.post1.dev112+g5d7d713) (2022.6.15)\n",
      "Requirement already satisfied: six>=1.5 in /home/evan/.local/lib/python3.10/site-packages (from python-dateutil>=2.8.1->pandas<2.0.0,>=1.4.2->subgrounds==1.2.0->queryportal==0.0.post1.dev112+g5d7d713) (1.16.0)\n",
      "Building wheels for collected packages: queryportal\n",
      "  Building wheel for queryportal (pyproject.toml) ... \u001b[?25ldone\n",
      "\u001b[?25h  Created wheel for queryportal: filename=queryportal-0.0.post1.dev112+g5d7d713-py3-none-any.whl size=10564 sha256=2e3eb9af3926100831fe7dd418a6904cea8b3ed1693158e5456699ee2f5df27e\n",
      "  Stored in directory: /tmp/pip-ephem-wheel-cache-kslgif7e/wheels/68/ed/37/5eb5a8cac3e8bd8308342b19c5d94d74d42b0e161e7158c447\n",
      "Successfully built queryportal\n",
      "Installing collected packages: subgrounds, queryportal\n",
      "  Attempting uninstall: subgrounds\n",
      "    Found existing installation: subgrounds 1.0.3\n",
      "    Uninstalling subgrounds-1.0.3:\n",
      "      Successfully uninstalled subgrounds-1.0.3\n",
      "Successfully installed queryportal-0.0.post1.dev112+g5d7d713 subgrounds-1.2.0\n"
     ]
    }
   ],
   "source": [
    "# run to install queryportal\n",
    "# !pip install git+https://github.com/Evan-Kim2028/subgraph-query-portal.git"
   ]
  },
  {
   "cell_type": "code",
   "execution_count": 1,
   "metadata": {},
   "outputs": [],
   "source": [
    "from queryportal.dex import Dex\n",
    "from datetime import datetime, timedelta"
   ]
  },
  {
   "cell_type": "code",
   "execution_count": 2,
   "metadata": {},
   "outputs": [],
   "source": [
    "# define subgraph endpoint. This one is the Univ3 Ethereum endpoint maintained by Messari\n",
    "endpoint = 'https://api.thegraph.com/subgraphs/name/messari/uniswap-v3-arbitrum'\n",
    "\n",
    "# instantiate dex class. Dex stores dex-related query functions\n",
    "my_dex = Dex(endpoint)"
   ]
  },
  {
   "cell_type": "code",
   "execution_count": 3,
   "metadata": {},
   "outputs": [],
   "source": [
    "start_time = int((datetime.today() - timedelta(days=30)).timestamp())\n",
    "end_time = int(datetime.today().timestamp())\n",
    "token_symbol = 'ARB'\n",
    "query_size = 1000000"
   ]
  },
  {
   "cell_type": "code",
   "execution_count": 4,
   "metadata": {},
   "outputs": [],
   "source": [
    "token_in_filter = {\n",
    "    'timestamp_gte': start_time,\n",
    "    'timestamp_lte': end_time,\n",
    "    'tokenIn_symbol': token_symbol\n",
    "}\n",
    "\n",
    "token_out_filter = {\n",
    "    'timestamp_gte': start_time,\n",
    "    'timestamp_lte': end_time,\n",
    "    'tokenOut_symbol': token_symbol\n",
    "}\n",
    "\n",
    "query_cols = [\n",
    "    'timestamp', \n",
    "    'pool_name', \n",
    "    'pool_totalValueLockedUSD',\n",
    "    'account_id',\n",
    "    'tokenIn_symbol', \n",
    "    'tokenOut_symbol', \n",
    "    'amountOutUSD', \n",
    "    'amountInUSD'\n",
    "    ]"
   ]
  },
  {
   "cell_type": "code",
   "execution_count": 5,
   "metadata": {},
   "outputs": [
    {
     "name": "stdout",
     "output_type": "stream",
     "text": [
      "{'tokenIn_': {'symbol': 'ARB'}}\n",
      "Shape: (644299, 8)\n",
      "Column Names: ['swaps_timestamp', 'swaps_pool_name', 'swaps_pool_totalValueLockedUSD', 'swaps_account_id', 'swaps_tokenIn_symbol', 'swaps_tokenOut_symbol', 'swaps_amountOutUSD', 'swaps_amountInUSD']\n",
      "Data Types: [Int64, Utf8, Float64, Utf8, Utf8, Utf8, Float64, Float64]\n",
      "Data: \n",
      "shape: (5, 8)\n",
      "┌────────────┬────────────┬────────────┬────────────┬────────────┬────────────┬────────────┬────────────┐\n",
      "│ swaps_time ┆ swaps_pool ┆ swaps_pool ┆ swaps_acco ┆ swaps_toke ┆ swaps_toke ┆ swaps_amou ┆ swaps_amou │\n",
      "│ stamp      ┆ _name      ┆ _totalValu ┆ unt_id     ┆ nIn_symbol ┆ nOut_symbo ┆ ntOutUSD   ┆ ntInUSD    │\n",
      "│ ---        ┆ ---        ┆ eLockedUSD ┆ ---        ┆ ---        ┆ l          ┆ ---        ┆ ---        │\n",
      "│ i64        ┆ str        ┆ ---        ┆ str        ┆ str        ┆ ---        ┆ f64        ┆ f64        │\n",
      "│            ┆            ┆ f64        ┆            ┆            ┆ str        ┆            ┆            │\n",
      "╞════════════╪════════════╪════════════╪════════════╪════════════╪════════════╪════════════╪════════════╡\n",
      "│ 1681323552 ┆ Uniswap V3 ┆ 2.3315e7   ┆ 0x95a7e7a1 ┆ ARB        ┆ WETH       ┆ 2563.36020 ┆ 2564.68043 │\n",
      "│            ┆ WETH/Arbit ┆            ┆ da7ca86f80 ┆            ┆            ┆ 1          ┆ 7          │\n",
      "│            ┆ rum 0.05%  ┆            ┆ a0eaf0c0aa ┆            ┆            ┆            ┆            │\n",
      "│            ┆            ┆            ┆ ba...      ┆            ┆            ┆            ┆            │\n",
      "│ 1681323539 ┆ Uniswap V3 ┆ 2.3315e7   ┆ 0x89204763 ┆ ARB        ┆ WETH       ┆ 1880.93187 ┆ 1881.89403 │\n",
      "│            ┆ WETH/Arbit ┆            ┆ 745ad5d79c ┆            ┆            ┆ 8          ┆            │\n",
      "│            ┆ rum 0.05%  ┆            ┆ e7129d9a72 ┆            ┆            ┆            ┆            │\n",
      "│            ┆            ┆            ┆ 1d...      ┆            ┆            ┆            ┆            │\n",
      "│ 1681323505 ┆ Uniswap V3 ┆ 2.3315e7   ┆ 0x9067a7a6 ┆ ARB        ┆ WETH       ┆ 11.975284  ┆ 11.981275  │\n",
      "│            ┆ WETH/Arbit ┆            ┆ 112ed0af23 ┆            ┆            ┆            ┆            │\n",
      "│            ┆ rum 0.05%  ┆            ┆ 4685745bf1 ┆            ┆            ┆            ┆            │\n",
      "│            ┆            ┆            ┆ 10...      ┆            ┆            ┆            ┆            │\n",
      "│ 1681323467 ┆ Uniswap V3 ┆ 2.3315e7   ┆ 0x72eec269 ┆ ARB        ┆ WETH       ┆ 957.864076 ┆ 958.34875  │\n",
      "│            ┆ WETH/Arbit ┆            ┆ 1b856a7f0b ┆            ┆            ┆            ┆            │\n",
      "│            ┆ rum 0.05%  ┆            ┆ 5529266e83 ┆            ┆            ┆            ┆            │\n",
      "│            ┆            ┆            ┆ f3...      ┆            ┆            ┆            ┆            │\n",
      "│ 1681323385 ┆ Uniswap V3 ┆ 5.3951e6   ┆ 0xece70abf ┆ ARB        ┆ USDC       ┆ 3002.40401 ┆ 3002.90862 │\n",
      "│            ┆ Arbitrum/U ┆            ┆ 2499e2c93a ┆            ┆            ┆            ┆            │\n",
      "│            ┆ SDC 0.05%  ┆            ┆ fae1b2093a ┆            ┆            ┆            ┆            │\n",
      "│            ┆            ┆            ┆ dc...      ┆            ┆            ┆            ┆            │\n",
      "└────────────┴────────────┴────────────┴────────────┴────────────┴────────────┴────────────┴────────────┘\n",
      "Function 'query_swaps' executed in 11407.3926s\n"
     ]
    }
   ],
   "source": [
    "token_in_df = my_dex.query_swaps(\n",
    "    query_paths = query_cols,\n",
    "    query_size = query_size,\n",
    "    filter_dict = token_in_filter, \n",
    "    saved_file_name='arb_in'\n",
    "    )"
   ]
  },
  {
   "cell_type": "code",
   "execution_count": 7,
   "metadata": {},
   "outputs": [
    {
     "name": "stdout",
     "output_type": "stream",
     "text": [
      "{'tokenOut_': {'symbol': 'ARB'}}\n"
     ]
    },
    {
     "ename": "PaginationError",
     "evalue": "Expecting value: line 1 column 1 (char 0)",
     "output_type": "error",
     "traceback": [
      "\u001b[0;31m---------------------------------------------------------------------------\u001b[0m",
      "\u001b[0;31mJSONDecodeError\u001b[0m                           Traceback (most recent call last)",
      "File \u001b[0;32m~/.local/lib/python3.10/site-packages/requests/models.py:971\u001b[0m, in \u001b[0;36mResponse.json\u001b[0;34m(self, **kwargs)\u001b[0m\n\u001b[1;32m    970\u001b[0m \u001b[39mtry\u001b[39;00m:\n\u001b[0;32m--> 971\u001b[0m     \u001b[39mreturn\u001b[39;00m complexjson\u001b[39m.\u001b[39;49mloads(\u001b[39mself\u001b[39;49m\u001b[39m.\u001b[39;49mtext, \u001b[39m*\u001b[39;49m\u001b[39m*\u001b[39;49mkwargs)\n\u001b[1;32m    972\u001b[0m \u001b[39mexcept\u001b[39;00m JSONDecodeError \u001b[39mas\u001b[39;00m e:\n\u001b[1;32m    973\u001b[0m     \u001b[39m# Catch JSON-related errors and raise as requests.JSONDecodeError\u001b[39;00m\n\u001b[1;32m    974\u001b[0m     \u001b[39m# This aliases json.JSONDecodeError and simplejson.JSONDecodeError\u001b[39;00m\n",
      "File \u001b[0;32m~/.local/lib/python3.10/site-packages/simplejson/__init__.py:525\u001b[0m, in \u001b[0;36mloads\u001b[0;34m(s, encoding, cls, object_hook, parse_float, parse_int, parse_constant, object_pairs_hook, use_decimal, **kw)\u001b[0m\n\u001b[1;32m    521\u001b[0m \u001b[39mif\u001b[39;00m (\u001b[39mcls\u001b[39m \u001b[39mis\u001b[39;00m \u001b[39mNone\u001b[39;00m \u001b[39mand\u001b[39;00m encoding \u001b[39mis\u001b[39;00m \u001b[39mNone\u001b[39;00m \u001b[39mand\u001b[39;00m object_hook \u001b[39mis\u001b[39;00m \u001b[39mNone\u001b[39;00m \u001b[39mand\u001b[39;00m\n\u001b[1;32m    522\u001b[0m         parse_int \u001b[39mis\u001b[39;00m \u001b[39mNone\u001b[39;00m \u001b[39mand\u001b[39;00m parse_float \u001b[39mis\u001b[39;00m \u001b[39mNone\u001b[39;00m \u001b[39mand\u001b[39;00m\n\u001b[1;32m    523\u001b[0m         parse_constant \u001b[39mis\u001b[39;00m \u001b[39mNone\u001b[39;00m \u001b[39mand\u001b[39;00m object_pairs_hook \u001b[39mis\u001b[39;00m \u001b[39mNone\u001b[39;00m\n\u001b[1;32m    524\u001b[0m         \u001b[39mand\u001b[39;00m \u001b[39mnot\u001b[39;00m use_decimal \u001b[39mand\u001b[39;00m \u001b[39mnot\u001b[39;00m kw):\n\u001b[0;32m--> 525\u001b[0m     \u001b[39mreturn\u001b[39;00m _default_decoder\u001b[39m.\u001b[39;49mdecode(s)\n\u001b[1;32m    526\u001b[0m \u001b[39mif\u001b[39;00m \u001b[39mcls\u001b[39m \u001b[39mis\u001b[39;00m \u001b[39mNone\u001b[39;00m:\n",
      "File \u001b[0;32m~/.local/lib/python3.10/site-packages/simplejson/decoder.py:370\u001b[0m, in \u001b[0;36mJSONDecoder.decode\u001b[0;34m(self, s, _w, _PY3)\u001b[0m\n\u001b[1;32m    369\u001b[0m     s \u001b[39m=\u001b[39m \u001b[39mstr\u001b[39m(s, \u001b[39mself\u001b[39m\u001b[39m.\u001b[39mencoding)\n\u001b[0;32m--> 370\u001b[0m obj, end \u001b[39m=\u001b[39m \u001b[39mself\u001b[39;49m\u001b[39m.\u001b[39;49mraw_decode(s)\n\u001b[1;32m    371\u001b[0m end \u001b[39m=\u001b[39m _w(s, end)\u001b[39m.\u001b[39mend()\n",
      "File \u001b[0;32m~/.local/lib/python3.10/site-packages/simplejson/decoder.py:400\u001b[0m, in \u001b[0;36mJSONDecoder.raw_decode\u001b[0;34m(self, s, idx, _w, _PY3)\u001b[0m\n\u001b[1;32m    399\u001b[0m         idx \u001b[39m+\u001b[39m\u001b[39m=\u001b[39m \u001b[39m3\u001b[39m\n\u001b[0;32m--> 400\u001b[0m \u001b[39mreturn\u001b[39;00m \u001b[39mself\u001b[39;49m\u001b[39m.\u001b[39;49mscan_once(s, idx\u001b[39m=\u001b[39;49m_w(s, idx)\u001b[39m.\u001b[39;49mend())\n",
      "\u001b[0;31mJSONDecodeError\u001b[0m: Expecting value: line 1 column 1 (char 0)",
      "\nDuring handling of the above exception, another exception occurred:\n",
      "\u001b[0;31mJSONDecodeError\u001b[0m                           Traceback (most recent call last)",
      "File \u001b[0;32m~/.local/lib/python3.10/site-packages/subgrounds/pagination/pagination.py:81\u001b[0m, in \u001b[0;36mpaginate\u001b[0;34m(schema, doc, pagination_strategy, headers)\u001b[0m\n\u001b[1;32m     80\u001b[0m \u001b[39mtry\u001b[39;00m:\n\u001b[0;32m---> 81\u001b[0m     page_data \u001b[39m=\u001b[39m client\u001b[39m.\u001b[39;49mquery(\n\u001b[1;32m     82\u001b[0m         url\u001b[39m=\u001b[39;49mdoc\u001b[39m.\u001b[39;49murl,\n\u001b[1;32m     83\u001b[0m         query_str\u001b[39m=\u001b[39;49mdoc\u001b[39m.\u001b[39;49mgraphql,\n\u001b[1;32m     84\u001b[0m         variables\u001b[39m=\u001b[39;49mdoc\u001b[39m.\u001b[39;49mvariables \u001b[39m|\u001b[39;49m args,\n\u001b[1;32m     85\u001b[0m         headers\u001b[39m=\u001b[39;49mheaders,\n\u001b[1;32m     86\u001b[0m     )\n\u001b[1;32m     87\u001b[0m     data \u001b[39m=\u001b[39m merge(data, page_data)\n",
      "File \u001b[0;32m~/.local/lib/python3.10/site-packages/subgrounds/client.py:165\u001b[0m, in \u001b[0;36mquery\u001b[0;34m(url, query_str, variables, headers)\u001b[0m\n\u001b[1;32m    156\u001b[0m logger\u001b[39m.\u001b[39minfo(\u001b[39mf\u001b[39m\u001b[39m\"\u001b[39m\u001b[39mclient.query: url = \u001b[39m\u001b[39m{\u001b[39;00murl\u001b[39m}\u001b[39;00m\u001b[39m, variables = \u001b[39m\u001b[39m{\u001b[39;00mvariables\u001b[39m}\u001b[39;00m\u001b[39m\\n\u001b[39;00m\u001b[39m{\u001b[39;00mquery_str\u001b[39m}\u001b[39;00m\u001b[39m\"\u001b[39m)\n\u001b[1;32m    157\u001b[0m resp \u001b[39m=\u001b[39m requests\u001b[39m.\u001b[39;49mpost(\n\u001b[1;32m    158\u001b[0m     url,\n\u001b[1;32m    159\u001b[0m     json\u001b[39m=\u001b[39;49m(\n\u001b[1;32m    160\u001b[0m         {\u001b[39m\"\u001b[39;49m\u001b[39mquery\u001b[39;49m\u001b[39m\"\u001b[39;49m: query_str}\n\u001b[1;32m    161\u001b[0m         \u001b[39mif\u001b[39;49;00m variables \u001b[39m==\u001b[39;49m {}\n\u001b[1;32m    162\u001b[0m         \u001b[39melse\u001b[39;49;00m {\u001b[39m\"\u001b[39;49m\u001b[39mquery\u001b[39;49m\u001b[39m\"\u001b[39;49m: query_str, \u001b[39m\"\u001b[39;49m\u001b[39mvariables\u001b[39;49m\u001b[39m\"\u001b[39;49m: variables}\n\u001b[1;32m    163\u001b[0m     ),\n\u001b[1;32m    164\u001b[0m     headers\u001b[39m=\u001b[39;49mdefault_header() \u001b[39m|\u001b[39;49m headers,\n\u001b[0;32m--> 165\u001b[0m )\u001b[39m.\u001b[39;49mjson()\n\u001b[1;32m    167\u001b[0m \u001b[39mtry\u001b[39;00m:\n",
      "File \u001b[0;32m~/.local/lib/python3.10/site-packages/requests/models.py:975\u001b[0m, in \u001b[0;36mResponse.json\u001b[0;34m(self, **kwargs)\u001b[0m\n\u001b[1;32m    972\u001b[0m \u001b[39mexcept\u001b[39;00m JSONDecodeError \u001b[39mas\u001b[39;00m e:\n\u001b[1;32m    973\u001b[0m     \u001b[39m# Catch JSON-related errors and raise as requests.JSONDecodeError\u001b[39;00m\n\u001b[1;32m    974\u001b[0m     \u001b[39m# This aliases json.JSONDecodeError and simplejson.JSONDecodeError\u001b[39;00m\n\u001b[0;32m--> 975\u001b[0m     \u001b[39mraise\u001b[39;00m RequestsJSONDecodeError(e\u001b[39m.\u001b[39mmsg, e\u001b[39m.\u001b[39mdoc, e\u001b[39m.\u001b[39mpos)\n",
      "\u001b[0;31mJSONDecodeError\u001b[0m: Expecting value: line 1 column 1 (char 0)",
      "\nDuring handling of the above exception, another exception occurred:\n",
      "\u001b[0;31mPaginationError\u001b[0m                           Traceback (most recent call last)",
      "Cell \u001b[0;32mIn[7], line 1\u001b[0m\n\u001b[0;32m----> 1\u001b[0m token_out_df \u001b[39m=\u001b[39m my_dex\u001b[39m.\u001b[39;49mquery_swaps(\n\u001b[1;32m      2\u001b[0m     query_paths \u001b[39m=\u001b[39;49m query_cols,\n\u001b[1;32m      3\u001b[0m     query_size \u001b[39m=\u001b[39;49m query_size,\n\u001b[1;32m      4\u001b[0m     filter_dict \u001b[39m=\u001b[39;49m token_out_filter, \n\u001b[1;32m      5\u001b[0m     saved_file_name\u001b[39m=\u001b[39;49m\u001b[39m'\u001b[39;49m\u001b[39marb_out\u001b[39;49m\u001b[39m'\u001b[39;49m\n\u001b[1;32m      6\u001b[0m     )\n",
      "File \u001b[0;32m~/.local/lib/python3.10/site-packages/queryportal/helpers.py:25\u001b[0m, in \u001b[0;36mtimeit.<locals>.wrap_func\u001b[0;34m(*args, **kwargs)\u001b[0m\n\u001b[1;32m     23\u001b[0m \u001b[39mdef\u001b[39;00m \u001b[39mwrap_func\u001b[39m(\u001b[39m*\u001b[39margs, \u001b[39m*\u001b[39m\u001b[39m*\u001b[39mkwargs):\n\u001b[1;32m     24\u001b[0m     t1 \u001b[39m=\u001b[39m time()\n\u001b[0;32m---> 25\u001b[0m     result \u001b[39m=\u001b[39m func(\u001b[39m*\u001b[39;49margs, \u001b[39m*\u001b[39;49m\u001b[39m*\u001b[39;49mkwargs)\n\u001b[1;32m     26\u001b[0m     t2 \u001b[39m=\u001b[39m time()\n\u001b[1;32m     27\u001b[0m     \u001b[39mprint\u001b[39m(\u001b[39mf\u001b[39m\u001b[39m'\u001b[39m\u001b[39mFunction \u001b[39m\u001b[39m{\u001b[39;00mfunc\u001b[39m.\u001b[39m\u001b[39m__name__\u001b[39m\u001b[39m!r}\u001b[39;00m\u001b[39m executed in \u001b[39m\u001b[39m{\u001b[39;00m(t2\u001b[39m-\u001b[39mt1)\u001b[39m:\u001b[39;00m\u001b[39m.4f\u001b[39m\u001b[39m}\u001b[39;00m\u001b[39ms\u001b[39m\u001b[39m'\u001b[39m)\n",
      "File \u001b[0;32m~/.local/lib/python3.10/site-packages/queryportal/helpers.py:37\u001b[0m, in \u001b[0;36mdf_describe.<locals>.wrapper\u001b[0;34m(*args, **kwargs)\u001b[0m\n\u001b[1;32m     35\u001b[0m \u001b[39m@wraps\u001b[39m(function)\n\u001b[1;32m     36\u001b[0m \u001b[39mdef\u001b[39;00m \u001b[39mwrapper\u001b[39m(\u001b[39m*\u001b[39margs, \u001b[39m*\u001b[39m\u001b[39m*\u001b[39mkwargs):\n\u001b[0;32m---> 37\u001b[0m     output \u001b[39m=\u001b[39m function(\u001b[39m*\u001b[39;49margs, \u001b[39m*\u001b[39;49m\u001b[39m*\u001b[39;49mkwargs) \u001b[39m# should be a pl.DataFrame\u001b[39;00m\n\u001b[1;32m     38\u001b[0m     \u001b[39m# try except: if it's a dataframe, print the shape. If the function crashes, print the error message.\u001b[39;00m\n\u001b[1;32m     39\u001b[0m     \u001b[39mtry\u001b[39;00m:\n",
      "File \u001b[0;32m~/.local/lib/python3.10/site-packages/queryportal/dex.py:86\u001b[0m, in \u001b[0;36mDex.query_swaps\u001b[0;34m(self, query_paths, query_size, filter_dict, saved_file_name, add_endpoint_col)\u001b[0m\n\u001b[1;32m     78\u001b[0m swaps_qp \u001b[39m=\u001b[39m \u001b[39mself\u001b[39m\u001b[39m.\u001b[39msubgraph\u001b[39m.\u001b[39mQuery\u001b[39m.\u001b[39mswaps(\n\u001b[1;32m     79\u001b[0m     first\u001b[39m=\u001b[39mquery_size,\n\u001b[1;32m     80\u001b[0m     orderBy\u001b[39m=\u001b[39m\u001b[39mself\u001b[39m\u001b[39m.\u001b[39msubgraph\u001b[39m.\u001b[39mQuery\u001b[39m.\u001b[39mswaps\u001b[39m.\u001b[39mtimestamp,\n\u001b[1;32m     81\u001b[0m     orderDirection\u001b[39m=\u001b[39m\u001b[39m'\u001b[39m\u001b[39mdesc\u001b[39m\u001b[39m'\u001b[39m,\n\u001b[1;32m     82\u001b[0m     where \u001b[39m=\u001b[39m new_filter_dict\n\u001b[1;32m     83\u001b[0m )\n\u001b[1;32m     85\u001b[0m matched_query_path \u001b[39m=\u001b[39m match_query_paths(query_paths\u001b[39m=\u001b[39mquery_paths, default_query_path \u001b[39m=\u001b[39m swaps_qp)\n\u001b[0;32m---> 86\u001b[0m \u001b[39mreturn\u001b[39;00m \u001b[39mself\u001b[39;49m\u001b[39m.\u001b[39;49mquery(\n\u001b[1;32m     87\u001b[0m             query_path\u001b[39m=\u001b[39;49mmatched_query_path,\n\u001b[1;32m     88\u001b[0m             saved_file_name\u001b[39m=\u001b[39;49msaved_file_name,\n\u001b[1;32m     89\u001b[0m             add_endpoint_col\u001b[39m=\u001b[39;49madd_endpoint_col\n\u001b[1;32m     90\u001b[0m         )\n",
      "File \u001b[0;32m~/.local/lib/python3.10/site-packages/queryportal/dex.py:44\u001b[0m, in \u001b[0;36mDex.query\u001b[0;34m(self, query_path, saved_file_name, add_endpoint_col)\u001b[0m\n\u001b[1;32m     39\u001b[0m \u001b[39m\u001b[39m\u001b[39m\"\"\"\u001b[39;00m\n\u001b[1;32m     40\u001b[0m \u001b[39mConcrete implementation of the abstract query method. Requires query_path as an input.\u001b[39;00m\n\u001b[1;32m     41\u001b[0m \u001b[39m\"\"\"\u001b[39;00m\n\u001b[1;32m     43\u001b[0m \u001b[39m# obtain pandas dataframe of query results\u001b[39;00m\n\u001b[0;32m---> 44\u001b[0m df \u001b[39m=\u001b[39m \u001b[39mself\u001b[39;49m\u001b[39m.\u001b[39;49msg\u001b[39m.\u001b[39;49mquery_df(query_path)\n\u001b[1;32m     46\u001b[0m converted_df \u001b[39m=\u001b[39m to_polars(df)\n\u001b[1;32m     48\u001b[0m \u001b[39mif\u001b[39;00m saved_file_name \u001b[39mis\u001b[39;00m \u001b[39mnot\u001b[39;00m \u001b[39mNone\u001b[39;00m:\n",
      "File \u001b[0;32m~/.local/lib/python3.10/site-packages/subgrounds/subgrounds.py:414\u001b[0m, in \u001b[0;36mSubgrounds.query_df\u001b[0;34m(self, fpaths, columns, concat, pagination_strategy)\u001b[0m\n\u001b[1;32m    347\u001b[0m \u001b[39m\u001b[39m\u001b[39m\"\"\"Same as :func:`Subgrounds.query` but formats the response data into a\u001b[39;00m\n\u001b[1;32m    348\u001b[0m \u001b[39mPandas DataFrame. If the response data cannot be flattened to a single query\u001b[39;00m\n\u001b[1;32m    349\u001b[0m \u001b[39m(e.g.: when querying multiple list fields that return different entities),\u001b[39;00m\n\u001b[0;32m   (...)\u001b[0m\n\u001b[1;32m    410\u001b[0m \u001b[39m    9       1643213196  2610.686563\u001b[39;00m\n\u001b[1;32m    411\u001b[0m \u001b[39m\"\"\"\u001b[39;00m\n\u001b[1;32m    413\u001b[0m fpaths \u001b[39m=\u001b[39m \u001b[39mlist\u001b[39m([fpaths] \u001b[39m|\u001b[39m traverse \u001b[39m|\u001b[39m \u001b[39mmap\u001b[39m(FieldPath\u001b[39m.\u001b[39m_auto_select) \u001b[39m|\u001b[39m traverse)\n\u001b[0;32m--> 414\u001b[0m json_data \u001b[39m=\u001b[39m \u001b[39mself\u001b[39;49m\u001b[39m.\u001b[39;49mquery_json(fpaths, pagination_strategy\u001b[39m=\u001b[39;49mpagination_strategy)\n\u001b[1;32m    415\u001b[0m \u001b[39mreturn\u001b[39;00m df_of_json(json_data, fpaths, columns, concat)\n",
      "File \u001b[0;32m~/.local/lib/python3.10/site-packages/subgrounds/subgrounds.py:316\u001b[0m, in \u001b[0;36mSubgrounds.query_json\u001b[0;34m(self, fpaths, pagination_strategy)\u001b[0m\n\u001b[1;32m    314\u001b[0m fpaths \u001b[39m=\u001b[39m \u001b[39mlist\u001b[39m([fpaths] \u001b[39m|\u001b[39m traverse \u001b[39m|\u001b[39m \u001b[39mmap\u001b[39m(FieldPath\u001b[39m.\u001b[39m_auto_select) \u001b[39m|\u001b[39m traverse)\n\u001b[1;32m    315\u001b[0m req \u001b[39m=\u001b[39m \u001b[39mself\u001b[39m\u001b[39m.\u001b[39mmk_request(fpaths)\n\u001b[0;32m--> 316\u001b[0m \u001b[39mreturn\u001b[39;00m \u001b[39mself\u001b[39;49m\u001b[39m.\u001b[39;49mexecute(req, pagination_strategy\u001b[39m=\u001b[39;49mpagination_strategy)\n",
      "File \u001b[0;32m~/.local/lib/python3.10/site-packages/subgrounds/subgrounds.py:229\u001b[0m, in \u001b[0;36mSubgrounds.execute\u001b[0;34m(self, req, pagination_strategy)\u001b[0m\n\u001b[1;32m    225\u001b[0m             \u001b[39mreturn\u001b[39;00m transform\u001b[39m.\u001b[39mtransform_response(req, data)\n\u001b[1;32m    227\u001b[0m     \u001b[39massert\u001b[39;00m \u001b[39mFalse\u001b[39;00m  \u001b[39m# Suppress mypy missing return statement warning\u001b[39;00m\n\u001b[0;32m--> 229\u001b[0m \u001b[39mreturn\u001b[39;00m transform_req(\u001b[39mself\u001b[39;49m\u001b[39m.\u001b[39;49mglobal_transforms, req)\n",
      "File \u001b[0;32m~/.local/lib/python3.10/site-packages/subgrounds/subgrounds.py:214\u001b[0m, in \u001b[0;36mSubgrounds.execute.<locals>.transform_req\u001b[0;34m(transforms, req)\u001b[0m\n\u001b[1;32m    212\u001b[0m \u001b[39mmatch\u001b[39;00m transforms:\n\u001b[1;32m    213\u001b[0m     \u001b[39mcase\u001b[39;00m []:\n\u001b[0;32m--> 214\u001b[0m         \u001b[39mreturn\u001b[39;00m \u001b[39mlist\u001b[39;49m(\n\u001b[1;32m    215\u001b[0m             req\u001b[39m.\u001b[39;49mdocuments\n\u001b[1;32m    216\u001b[0m             \u001b[39m|\u001b[39;49m \u001b[39mmap\u001b[39;49m(\n\u001b[1;32m    217\u001b[0m                 \u001b[39mlambda\u001b[39;49;00m doc: transform_doc(\n\u001b[1;32m    218\u001b[0m                     \u001b[39mself\u001b[39;49m\u001b[39m.\u001b[39;49msubgraphs[doc\u001b[39m.\u001b[39;49murl]\u001b[39m.\u001b[39;49m_transforms, doc\n\u001b[1;32m    219\u001b[0m                 )\n\u001b[1;32m    220\u001b[0m             )\n\u001b[1;32m    221\u001b[0m         )\n\u001b[1;32m    222\u001b[0m     \u001b[39mcase\u001b[39;00m [transform, \u001b[39m*\u001b[39mrest]:\n\u001b[1;32m    223\u001b[0m         new_req \u001b[39m=\u001b[39m transform\u001b[39m.\u001b[39mtransform_request(req)\n",
      "File \u001b[0;32m~/.local/lib/python3.10/site-packages/subgrounds/subgrounds.py:217\u001b[0m, in \u001b[0;36mSubgrounds.execute.<locals>.transform_req.<locals>.<lambda>\u001b[0;34m(doc)\u001b[0m\n\u001b[1;32m    212\u001b[0m \u001b[39mmatch\u001b[39;00m transforms:\n\u001b[1;32m    213\u001b[0m     \u001b[39mcase\u001b[39;00m []:\n\u001b[1;32m    214\u001b[0m         \u001b[39mreturn\u001b[39;00m \u001b[39mlist\u001b[39m(\n\u001b[1;32m    215\u001b[0m             req\u001b[39m.\u001b[39mdocuments\n\u001b[1;32m    216\u001b[0m             \u001b[39m|\u001b[39m \u001b[39mmap\u001b[39m(\n\u001b[0;32m--> 217\u001b[0m                 \u001b[39mlambda\u001b[39;00m doc: transform_doc(\n\u001b[1;32m    218\u001b[0m                     \u001b[39mself\u001b[39;49m\u001b[39m.\u001b[39;49msubgraphs[doc\u001b[39m.\u001b[39;49murl]\u001b[39m.\u001b[39;49m_transforms, doc\n\u001b[1;32m    219\u001b[0m                 )\n\u001b[1;32m    220\u001b[0m             )\n\u001b[1;32m    221\u001b[0m         )\n\u001b[1;32m    222\u001b[0m     \u001b[39mcase\u001b[39;00m [transform, \u001b[39m*\u001b[39mrest]:\n\u001b[1;32m    223\u001b[0m         new_req \u001b[39m=\u001b[39m transform\u001b[39m.\u001b[39mtransform_request(req)\n",
      "File \u001b[0;32m~/.local/lib/python3.10/site-packages/subgrounds/subgrounds.py:204\u001b[0m, in \u001b[0;36mSubgrounds.execute.<locals>.transform_doc\u001b[0;34m(transforms, doc)\u001b[0m\n\u001b[1;32m    202\u001b[0m     \u001b[39mcase\u001b[39;00m [transform, \u001b[39m*\u001b[39mrest]:\n\u001b[1;32m    203\u001b[0m         new_doc \u001b[39m=\u001b[39m transform\u001b[39m.\u001b[39mtransform_document(doc)\n\u001b[0;32m--> 204\u001b[0m         data \u001b[39m=\u001b[39m transform_doc(rest, new_doc)\n\u001b[1;32m    205\u001b[0m         \u001b[39mreturn\u001b[39;00m transform\u001b[39m.\u001b[39mtransform_response(doc, data)\n\u001b[1;32m    207\u001b[0m \u001b[39massert\u001b[39;00m \u001b[39mFalse\u001b[39;00m\n",
      "File \u001b[0;32m~/.local/lib/python3.10/site-packages/subgrounds/subgrounds.py:204\u001b[0m, in \u001b[0;36mSubgrounds.execute.<locals>.transform_doc\u001b[0;34m(transforms, doc)\u001b[0m\n\u001b[1;32m    202\u001b[0m     \u001b[39mcase\u001b[39;00m [transform, \u001b[39m*\u001b[39mrest]:\n\u001b[1;32m    203\u001b[0m         new_doc \u001b[39m=\u001b[39m transform\u001b[39m.\u001b[39mtransform_document(doc)\n\u001b[0;32m--> 204\u001b[0m         data \u001b[39m=\u001b[39m transform_doc(rest, new_doc)\n\u001b[1;32m    205\u001b[0m         \u001b[39mreturn\u001b[39;00m transform\u001b[39m.\u001b[39mtransform_response(doc, data)\n\u001b[1;32m    207\u001b[0m \u001b[39massert\u001b[39;00m \u001b[39mFalse\u001b[39;00m\n",
      "    \u001b[0;31m[... skipping similar frames: Subgrounds.execute.<locals>.transform_doc at line 204 (3 times)]\u001b[0m\n",
      "File \u001b[0;32m~/.local/lib/python3.10/site-packages/subgrounds/subgrounds.py:204\u001b[0m, in \u001b[0;36mSubgrounds.execute.<locals>.transform_doc\u001b[0;34m(transforms, doc)\u001b[0m\n\u001b[1;32m    202\u001b[0m     \u001b[39mcase\u001b[39;00m [transform, \u001b[39m*\u001b[39mrest]:\n\u001b[1;32m    203\u001b[0m         new_doc \u001b[39m=\u001b[39m transform\u001b[39m.\u001b[39mtransform_document(doc)\n\u001b[0;32m--> 204\u001b[0m         data \u001b[39m=\u001b[39m transform_doc(rest, new_doc)\n\u001b[1;32m    205\u001b[0m         \u001b[39mreturn\u001b[39;00m transform\u001b[39m.\u001b[39mtransform_response(doc, data)\n\u001b[1;32m    207\u001b[0m \u001b[39massert\u001b[39;00m \u001b[39mFalse\u001b[39;00m\n",
      "File \u001b[0;32m~/.local/lib/python3.10/site-packages/subgrounds/subgrounds.py:201\u001b[0m, in \u001b[0;36mSubgrounds.execute.<locals>.transform_doc\u001b[0;34m(transforms, doc)\u001b[0m\n\u001b[1;32m    199\u001b[0m \u001b[39mmatch\u001b[39;00m transforms:\n\u001b[1;32m    200\u001b[0m     \u001b[39mcase\u001b[39;00m []:\n\u001b[0;32m--> 201\u001b[0m         \u001b[39mreturn\u001b[39;00m execute_document(doc)\n\u001b[1;32m    202\u001b[0m     \u001b[39mcase\u001b[39;00m [transform, \u001b[39m*\u001b[39mrest]:\n\u001b[1;32m    203\u001b[0m         new_doc \u001b[39m=\u001b[39m transform\u001b[39m.\u001b[39mtransform_document(doc)\n",
      "File \u001b[0;32m~/.local/lib/python3.10/site-packages/subgrounds/subgrounds.py:186\u001b[0m, in \u001b[0;36mSubgrounds.execute.<locals>.execute_document\u001b[0;34m(doc)\u001b[0m\n\u001b[1;32m    182\u001b[0m subgraph: Subgraph \u001b[39m=\u001b[39m \u001b[39mnext\u001b[39m(\n\u001b[1;32m    183\u001b[0m     \u001b[39mself\u001b[39m\u001b[39m.\u001b[39msubgraphs\u001b[39m.\u001b[39mvalues() \u001b[39m|\u001b[39m where(\u001b[39mlambda\u001b[39;00m sg: sg\u001b[39m.\u001b[39m_url \u001b[39m==\u001b[39m doc\u001b[39m.\u001b[39murl)\n\u001b[1;32m    184\u001b[0m )\n\u001b[1;32m    185\u001b[0m \u001b[39mif\u001b[39;00m pagination_strategy \u001b[39mis\u001b[39;00m \u001b[39mnot\u001b[39;00m \u001b[39mNone\u001b[39;00m \u001b[39mand\u001b[39;00m subgraph\u001b[39m.\u001b[39m_is_subgraph:\n\u001b[0;32m--> 186\u001b[0m     \u001b[39mreturn\u001b[39;00m paginate(\n\u001b[1;32m    187\u001b[0m         subgraph\u001b[39m.\u001b[39;49m_schema,\n\u001b[1;32m    188\u001b[0m         doc,\n\u001b[1;32m    189\u001b[0m         pagination_strategy\u001b[39m=\u001b[39;49mpagination_strategy,\n\u001b[1;32m    190\u001b[0m         headers\u001b[39m=\u001b[39;49m\u001b[39mself\u001b[39;49m\u001b[39m.\u001b[39;49mheaders,\n\u001b[1;32m    191\u001b[0m     )\n\u001b[1;32m    192\u001b[0m \u001b[39melse\u001b[39;00m:\n\u001b[1;32m    193\u001b[0m     \u001b[39mreturn\u001b[39;00m client\u001b[39m.\u001b[39mquery(\n\u001b[1;32m    194\u001b[0m         doc\u001b[39m.\u001b[39murl, doc\u001b[39m.\u001b[39mgraphql, variables\u001b[39m=\u001b[39mdoc\u001b[39m.\u001b[39mvariables, headers\u001b[39m=\u001b[39mheaders\n\u001b[1;32m    195\u001b[0m     )\n",
      "File \u001b[0;32m~/.local/lib/python3.10/site-packages/subgrounds/pagination/pagination.py:92\u001b[0m, in \u001b[0;36mpaginate\u001b[0;34m(schema, doc, pagination_strategy, headers)\u001b[0m\n\u001b[1;32m     90\u001b[0m             \u001b[39mbreak\u001b[39;00m\n\u001b[1;32m     91\u001b[0m         \u001b[39mexcept\u001b[39;00m \u001b[39mException\u001b[39;00m \u001b[39mas\u001b[39;00m exn:\n\u001b[0;32m---> 92\u001b[0m             \u001b[39mraise\u001b[39;00m PaginationError(exn\u001b[39m.\u001b[39margs[\u001b[39m0\u001b[39m], strategy)\n\u001b[1;32m     94\u001b[0m     \u001b[39mreturn\u001b[39;00m data\n\u001b[1;32m     96\u001b[0m \u001b[39mexcept\u001b[39;00m SkipPagination:\n",
      "\u001b[0;31mPaginationError\u001b[0m: Expecting value: line 1 column 1 (char 0)"
     ]
    }
   ],
   "source": [
    "token_out_df = my_dex.query_swaps(\n",
    "    query_paths = query_cols,\n",
    "    query_size = query_size,\n",
    "    filter_dict = token_out_filter, \n",
    "    saved_file_name='arb_out'\n",
    "    )"
   ]
  },
  {
   "cell_type": "code",
   "execution_count": null,
   "metadata": {},
   "outputs": [],
   "source": []
  }
 ],
 "metadata": {
  "kernelspec": {
   "display_name": "Python 3",
   "language": "python",
   "name": "python3"
  },
  "language_info": {
   "codemirror_mode": {
    "name": "ipython",
    "version": 3
   },
   "file_extension": ".py",
   "mimetype": "text/x-python",
   "name": "python",
   "nbconvert_exporter": "python",
   "pygments_lexer": "ipython3",
   "version": "3.10.6"
  },
  "orig_nbformat": 4
 },
 "nbformat": 4,
 "nbformat_minor": 2
}
